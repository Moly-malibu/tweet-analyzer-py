{
 "cells": [
  {
   "cell_type": "markdown",
   "metadata": {},
   "source": [
    "# Bot Community Detection\n",
    "Use this notebook to detect communities in bot retweet network\n",
    "\n",
    "Data = Bot profiles, bot tweets\n",
    "\n",
    "Analysis steps\n",
    "\n",
    "1) Cluster bots based on retweet network (who they retweet)\n",
    "\n",
    "2) Look at popular retweeted users, arabic profiles, and account creation dates within in bot retweet community.\n",
    "\n",
    "3) Cluster bots by creation date.  Look at popular retweeted users and arabic profiles\n",
    "in each created_at community\n"
   ]
  },
  {
   "cell_type": "code",
   "execution_count": 1,
   "metadata": {},
   "outputs": [],
   "source": [
    "from datetime import datetime, timedelta\n",
    "import numpy as np\n",
    "import networkx as nx\n",
    "from networkx.algorithms import community\n",
    "\n",
    "import sqlite3,sys,os,string\n",
    "import pandas as pd\n",
    "import matplotlib.pyplot as plt\n",
    "from os import path\n",
    "\n",
    "from helper_retweet_network import *\n",
    "from SpectralCommunities import spectral_clustering\n",
    "from sklearn.cluster import KMeans\n",
    "\n",
    "#from wordcloud import WordCloud, STOPWORDS, ImageColorGenerator\n",
    "#import arabic_reshaper\n",
    "#from bidi.algorithm import get_display\n"
   ]
  },
  {
   "cell_type": "markdown",
   "metadata": {},
   "source": [
    "## Load Data\n",
    "1) fname_bots_db = file of database with bot tweets\n",
    "\n",
    "2) fname_Gretweet = file where we will save bot retweet network\n",
    "\n",
    "3) fname_Gsim = file where we will save retweet similarity network of bots\n",
    "\n",
    "4) fname_bots_updated_csv = file where we save the bot profiles with community membership"
   ]
  },
  {
   "cell_type": "code",
   "execution_count": 9,
   "metadata": {},
   "outputs": [
    {
     "name": "stdout",
     "output_type": "stream",
     "text": [
      "2026 bots\n",
      "413974 bot tweets\n"
     ]
    }
   ],
   "source": [
    "path_data = \"Libya//\"\n",
    "\n",
    "fname_bots_db = path_data+\"Libya_bot_forensics.db\"\n",
    "fname_Gretweet = path_data + \"Gretweet.gpickle\"\n",
    "fname_Gsim = path_data + \"Gsim.gpickle\"\n",
    "fname_bots_updated_csv = path_data+\"Libya_bot_forensics_community.csv\"\n",
    "\n",
    "conn = sqlite3.connect(\"%s\"%fname_bots_db)\n",
    "df_tweets = pd.read_sql_query(\"SELECT * FROM tweet\", conn)\n",
    "df_profiles = pd.read_sql_query(\"SELECT * FROM user_profile\", conn)\n",
    "\n",
    "print(\"%s bots\\n%s bot tweets\"%(len(df_profiles),len(df_tweets)))"
   ]
  },
  {
   "cell_type": "markdown",
   "metadata": {},
   "source": [
    "## Create and save retweet network\n"
   ]
  },
  {
   "cell_type": "code",
   "execution_count": null,
   "metadata": {},
   "outputs": [],
   "source": [
    "#Gretweet = retweet_network_from_tweets(df_tweets)\n",
    "#nx.write_gpickle(Gretweet, fname_Gretweet)"
   ]
  },
  {
   "cell_type": "markdown",
   "metadata": {},
   "source": [
    "## Create and save similarity network\n",
    "\n",
    "The similarity is based on the Jaccard index.  For each pair of bots we calculate the Jaccard index based on the sets of people they retweet.  If two bots retweet exactly the same users, their Jaccard index is one.  If they dont retweet anyone in common, their Jaccard index is zero."
   ]
  },
  {
   "cell_type": "code",
   "execution_count": null,
   "metadata": {},
   "outputs": [],
   "source": [
    "## Calculate Jacard similarity based on following for bots\n",
    "V = list(set(df_profiles.screen_name))\n",
    "print('%s bot profiles'%len(V))\n",
    "\n",
    "ebunch = []\n",
    "for counter,u in enumerate(V):\n",
    "    for v in V[counter+1:]:\n",
    "        if (Gretweet.has_node(v)) and (Gretweet.has_node(u)):\n",
    "            ebunch.append((u,v))\n",
    "preds = nx.jaccard_coefficient(Gretweet.to_undirected(),ebunch)\n",
    "print(len(ebunch), \" node pairs to check Jaccard index\")\n",
    "\n",
    "print(\"Create similarity graph between bots using Jacard index based on retweets\")\n",
    "counter = 0\n",
    "Gsim = nx.Graph()\n",
    "ne = 0\n",
    "for u, v, s in preds:\n",
    "    counter+=1\n",
    "    if s >0:\n",
    "        Gsim.add_edge(u, v, weight=s)\n",
    "        ne+=1\n",
    "    if counter%1e6==0:print(counter,ne, \" positive weights\")\n",
    "nv = Gsim.number_of_nodes()\n",
    "ne = Gsim.number_of_edges()\n",
    "print(\"Gsim has %s nodes, %s edges\"%(nv,ne))\n",
    "\n",
    "print(\"Save similarity graph Gsim\")\n",
    "#nx.write_gpickle(Gsim, fname_Gsim)\n",
    "\n"
   ]
  },
  {
   "cell_type": "markdown",
   "metadata": {},
   "source": [
    "## Create datetime objects from created at times of accounts.\n",
    "\n",
    "We will look for temporal clusters.  Add column created_at_datetime to df_profiles with creation time as a datetime object for analysis purposes."
   ]
  },
  {
   "cell_type": "code",
   "execution_count": 11,
   "metadata": {},
   "outputs": [],
   "source": [
    "fmt = '%Y-%m-%d %H:%M:%S'\n",
    "\n",
    "Tdatetime = []\n",
    "for s in df_profiles.created_at:\n",
    "    date_time_obj = datetime.strptime(s, fmt)\n",
    "    Tdatetime.append(date_time_obj)\n",
    "Tdatetime = np.array(Tdatetime)\n",
    "df_profiles[\"created_at_datetime\"]  = Tdatetime\n",
    "t0 = min(Tdatetime)\n"
   ]
  },
  {
   "cell_type": "markdown",
   "metadata": {},
   "source": [
    "# Community detection based on retweet network\n",
    "1) Load retweet network Gretweet\n",
    "\n",
    "2) Load bot retweet similarity network Gsim\n"
   ]
  },
  {
   "cell_type": "code",
   "execution_count": 4,
   "metadata": {},
   "outputs": [],
   "source": [
    "Gretweet = nx.read_gpickle(fname_Gretweet)\n",
    "Gsim = nx.read_gpickle(fname_Gsim)"
   ]
  },
  {
   "cell_type": "markdown",
   "metadata": {},
   "source": [
    "## Find communities in bot retweet similarity\n",
    "1) Choose number of communities to find k\n",
    "\n",
    "2) Apply spectral clustering to Gsim to find communities\n",
    "\n",
    "Community = list of communities.  Each element is a list of screen_names in a community"
   ]
  },
  {
   "cell_type": "code",
   "execution_count": 15,
   "metadata": {},
   "outputs": [
    {
     "name": "stdout",
     "output_type": "stream",
     "text": [
      "Found 3 spectral communities\n",
      "Retweet Community 0 with 1073 nodes\n",
      "Retweet Community 1 with 757 nodes\n",
      "Retweet Community 2 with 195 nodes\n"
     ]
    }
   ],
   "source": [
    "## Find spectral communities in the weighted similarity graph.\n",
    "\n",
    "k = 3 #number of spectal communities \n",
    "\n",
    "Community = spectral_clustering(Gsim,k)\n",
    "print(\"Found %s spectral communities\"%len(Community))\n",
    "\n",
    "\n",
    "for counter,community in enumerate(Community): \n",
    "    print(\"Retweet Community %s with %s nodes\"%(counter,len(community)))"
   ]
  },
  {
   "cell_type": "code",
   "execution_count": 16,
   "metadata": {},
   "outputs": [
    {
     "data": {
      "image/png": "[encoded data removed]",
      "text/plain": [
       "<Figure size 432x288 with 1 Axes>"
      ]
     },
     "metadata": {
      "needs_background": "light"
     },
     "output_type": "display_data"
    }
   ],
   "source": [
    "#add Community column to df_profiles dataframe\n",
    "Community_dict ={}\n",
    "\n",
    "for counter,community in enumerate(Community): \n",
    "    for v in community:\n",
    "        Community_dict[v] = counter\n",
    "Community_list = []\n",
    "for v in df_profiles.screen_name:\n",
    "    if v in Community_dict:\n",
    "        Community_list.append(Community_dict[v])\n",
    "    else:\n",
    "        Community_list.append(-1) \n",
    "df_profiles['Community'] = Community_list\n",
    "df_profiles.to_csv(fname_bots_updated_csv)\n",
    "\n",
    "plt.hist(df_profiles.Community)\n",
    "plt.grid()\n",
    "plt.show()"
   ]
  },
  {
   "cell_type": "markdown",
   "metadata": {},
   "source": [
    "## Top retweeted users in each community\n",
    "\n",
    "For each community of bots, we form the subgraph containing the bots and everyone they retweet.  Then we look at the top retweeted users in this subgraph."
   ]
  },
  {
   "cell_type": "code",
   "execution_count": 26,
   "metadata": {},
   "outputs": [
    {
     "name": "stdout",
     "output_type": "stream",
     "text": [
      "Retweet community 0 with 1073 users\n",
      "Top out degree\n",
      "\tCentrality = 512.00,  monther72\n",
      "\tCentrality = 457.00,  TurkeyAffairs\n",
      "\tCentrality = 424.00,  5a1di\n",
      "\tCentrality = 392.00,  AlArabiya\n",
      "\tCentrality = 377.00,  meshaluk\n",
      "\tCentrality = 357.00,  70sul\n",
      "\tCentrality = 318.00,  AlArabiya_Brk\n",
      "\tCentrality = 300.00,  sattam_al_saud\n",
      "\tCentrality = 289.00,  amjadt25\n",
      "\tCentrality = 289.00,  naif4002\n",
      "\tCentrality = 287.00,  Alshaikh2\n",
      "Retweet community 1 with 757 users\n",
      "Top out degree\n",
      "\tCentrality = 421.00,  EbrahimGasuda\n",
      "\tCentrality = 374.00,  emad_badish\n",
      "\tCentrality = 320.00,  RD_turk\n",
      "\tCentrality = 304.00,  nasser_duwailah\n",
      "\tCentrality = 296.00,  TurkiShalhoub\n",
      "\tCentrality = 295.00,  QATARTEAM\n",
      "\tCentrality = 294.00,  full_confident\n",
      "\tCentrality = 275.00,  Hamza_tekin2023\n",
      "\tCentrality = 270.00,  mshinqiti\n",
      "\tCentrality = 229.00,  aa_arabic\n",
      "\tCentrality = 228.00,  akarh90\n",
      "Retweet community 2 with 195 users\n",
      "Top out degree\n",
      "\tCentrality = 152.00,  tcsavunma\n",
      "\tCentrality = 113.00,  FazilDuygun\n",
      "\tCentrality = 109.00,  drfahrettinkoca\n",
      "\tCentrality = 109.00,  Selcuk\n",
      "\tCentrality = 101.00,  birincimucahit\n",
      "\tCentrality = 100.00,  yazarmuratakan\n",
      "\tCentrality = 95.00,  nedimsener2010\n",
      "\tCentrality = 94.00,  yerelkulis\n",
      "\tCentrality = 93.00,  06melihgokcek\n",
      "\tCentrality = 92.00,  suleymansoylu\n",
      "\tCentrality = 89.00,  haciykk\n"
     ]
    }
   ],
   "source": [
    "display_max = 10  #number of nodes to display\n",
    "\n",
    "for counter,c in enumerate(Community):\n",
    "    Vsub = []\n",
    "    for v in c:\n",
    "        if Gretweet.has_node(v):\n",
    "            nb = list(Gretweet.predecessors(v))\n",
    "            Vsub+=nb\n",
    "            Vsub.append(v)\n",
    "    print(\"Retweet community %s with %s users\"%(counter,len(c)))\n",
    "    G = Gretweet.subgraph(Vsub)\n",
    "    Dout = dict(G.out_degree())\n",
    "    print(\"Top out degree\")\n",
    "    Centrality = Dout\n",
    "    display_top_centrality_nodes(Centrality,display_max)\n"
   ]
  },
  {
   "cell_type": "markdown",
   "metadata": {},
   "source": [
    "## Arabic language profiles in each bot retweet community\n",
    "\n",
    "Look at what fraction of user profiles in each bot retweet community contain Arabic characters"
   ]
  },
  {
   "cell_type": "code",
   "execution_count": 25,
   "metadata": {},
   "outputs": [
    {
     "name": "stdout",
     "output_type": "stream",
     "text": [
      "Community 0: 1073 users, 0.41 percent arabic profiles\n",
      "Community 1: 757 users, 0.41 percent arabic profiles\n",
      "Community 2: 195 users, 0.03 percent arabic profiles\n"
     ]
    }
   ],
   "source": [
    "## functions to detect if a string has arabic characters\n",
    "def isarabic_char(ch):\n",
    "    if ('\\u0600' <= ch <= '\\u06FF' or\n",
    "        '\\u0750' <= ch <= '\\u077F' or\n",
    "        '\\u08A0' <= ch <= '\\u08FF' or\n",
    "        '\\uFB50' <= ch <= '\\uFDFF' or\n",
    "        '\\uFE70' <= ch <= '\\uFEFF' or\n",
    "        '\\U00010E60' <= ch <= '\\U00010E7F' or\n",
    "        '\\U0001EE00' <= ch <= '\\U0001EEFF' or\n",
    "                        ch == '\\U0001F1E6' or #saudi flag emoji\n",
    "                        ch == '\\U0001F1E6'): #saudi flag emoji\n",
    "        return True\n",
    "    else:\n",
    "        return False\n",
    "    \n",
    "def isarabic_str(str):\n",
    "    x = False\n",
    "    for ch in str:\n",
    "        if isarabic_char(ch): \n",
    "            x = True\n",
    "            break\n",
    "    return(x)\n",
    "\n",
    "## Look at fraction of arabic profiles in each community\n",
    "for counter,c in enumerate(Community):\n",
    "    for cv,v in enumerate(c):\n",
    "        if cv ==0:\n",
    "            profiles = df_profiles.description[df_profiles.screen_name==v]\n",
    "        else:\n",
    "            profile = df_profiles.description[df_profiles.screen_name==v]\n",
    "            profiles = profiles.append(profile)\n",
    "    n = len(profiles)\n",
    "    narabic = sum([isarabic_str(p) for p in profiles])\n",
    "\n",
    "    print(\"Community %s: %s users, %.2f percent arabic profiles\"\n",
    "          %(counter,n,narabic/n))\n",
    "\n",
    "ArabicProfile = []   \n",
    "for profile in df_profiles.description:\n",
    "    ArabicProfile.append(isarabic_str(profile))\n",
    "ArabicProfile = np.array(ArabicProfile)\n",
    "df_profiles[\"arabic_profile\"]  = ArabicProfile\n",
    "df_profiles.to_csv(fname_bots_updated_csv)\n"
   ]
  },
  {
   "cell_type": "markdown",
   "metadata": {},
   "source": [
    "## Histogram of Creation date in each bot retweet community\n",
    "Plot distribution of creation dates for bots in each retweet based community"
   ]
  },
  {
   "cell_type": "code",
   "execution_count": 23,
   "metadata": {
    "scrolled": false
   },
   "outputs": [
    {
     "data": {
      "image/png": "[encoded data removed]",
      "text/plain": [
       "<Figure size 432x288 with 1 Axes>"
      ]
     },
     "metadata": {
      "needs_background": "light"
     },
     "output_type": "display_data"
    },
    {
     "data": {
      "image/png": "[encoded data removed]",
      "text/plain": [
       "<Figure size 432x288 with 1 Axes>"
      ]
     },
     "metadata": {
      "needs_background": "light"
     },
     "output_type": "display_data"
    },
    {
     "data": {
      "image/png": "[encoded data removed]",
      "text/plain": [
       "<Figure size 432x288 with 1 Axes>"
      ]
     },
     "metadata": {
      "needs_background": "light"
     },
     "output_type": "display_data"
    }
   ],
   "source": [
    "t0 = min(df_profiles.created_at_datetime).to_pydatetime()\n",
    "tf = max(df_profiles.created_at_datetime).to_pydatetime()\n",
    "\n",
    "nbins = round((tf-t0).days/31)\n",
    "color = [\"orange\",\"blue\",\"red\",\"green\",\"yellow\",\"pink\",\"cyan\"]\n",
    "for counter,c in enumerate(Community):\n",
    "    T =[]\n",
    "    for v in c:\n",
    "        t = df_profiles.created_at_datetime[df_profiles.screen_name==v].values[0]\n",
    "        T.append(t)\n",
    "    T = np.array(T)\n",
    "    plt.hist(T,nbins,color = color[counter],\n",
    "             label=\"Community %s with %s nodes\"%(counter,len(c)))\n",
    "    plt.title(\"Community %s with %s bots\"%(counter,len(c)))\n",
    "    plt.grid()\n",
    "    plt.xlabel(\"Bot creation date\")\n",
    "    plt.ylabel(\"Number of bots\")\n",
    "    plt.ylim([0,80])\n",
    "    plt.show()"
   ]
  },
  {
   "cell_type": "markdown",
   "metadata": {},
   "source": [
    "# CDF Plots and Windowed Histograms of Bot creation date grouped by retweet community"
   ]
  },
  {
   "cell_type": "code",
   "execution_count": 20,
   "metadata": {},
   "outputs": [
    {
     "data": {
      "image/png": "[encoded data removed]",
      "text/plain": [
       "<Figure size 432x288 with 1 Axes>"
      ]
     },
     "metadata": {
      "needs_background": "light"
     },
     "output_type": "display_data"
    },
    {
     "data": {
      "image/png": "[encoded data removed]",
      "text/plain": [
       "<Figure size 432x288 with 1 Axes>"
      ]
     },
     "metadata": {
      "needs_background": "light"
     },
     "output_type": "display_data"
    },
    {
     "data": {
      "image/png": "[encoded data removed]",
      "text/plain": [
       "<Figure size 432x288 with 1 Axes>"
      ]
     },
     "metadata": {
      "needs_background": "light"
     },
     "output_type": "display_data"
    }
   ],
   "source": [
    "def cdf_created_at(df,t0,t1,window_days):\n",
    "    #zero out the hours, minutes, seconds, microseconds\n",
    "    tf_bin = tf.replace(hour=0, minute=0, second=0, microsecond=0) # Returns a copy\n",
    "    t0_bin = t0.replace(hour=0, minute=0, second=0, microsecond=0) # Returns a copy\n",
    "\n",
    "    bins = []\n",
    "    delta = timedelta(days=window_days)\n",
    "    GO = True\n",
    "    counter_days=0\n",
    "    while GO:\n",
    "        t1 = t0_bin + counter_days*delta\n",
    "        if t1 >tf_bin:\n",
    "            GO = False\n",
    "            break\n",
    "        else:\n",
    "            bins.append(t1)\n",
    "            counter_days+=1\n",
    "    bins = np.array(bins)\n",
    "    Cum_count = []\n",
    "    Hist_count = []\n",
    "    for t in bins:\n",
    "        cdf = len(df[df.created_at_datetime<=t])\n",
    "        hist_count =  len(df[(df.created_at_datetime<=t) & (df.created_at_datetime>t-delta)])\n",
    "        Cum_count.append(cdf)\n",
    "        Hist_count.append(hist_count)\n",
    "    Cum_count = np.array(Cum_count)\n",
    "    CDF = Cum_count/max(Cum_count)\n",
    "    \n",
    "    bins = [timestamp.date() for timestamp in bins]\n",
    "    return bins,Cum_count,Hist_count\n",
    "\n",
    "t0 = min(df_profiles.created_at_datetime)\n",
    "tf = max(df_profiles.created_at_datetime)\n",
    "\n",
    "nbins = round((tf-t0).days/7)\n",
    "color = [\"orange\",\"blue\",\"red\",\"green\"]\n",
    "window_days = 7\n",
    "for counter,c in enumerate(Community):\n",
    "    df_comm = df_profiles[df_profiles.Community==counter]\n",
    "    bins,CDF,Hist_count =  cdf_created_at(df_comm,t0,tf,window_days)\n",
    "    \n",
    "    #plt.subplot(1,2,2)\n",
    "    #plt.plot(bins,CDF,color = color[counter],\n",
    "    #         label=\"Community %s with %s nodes\"%(counter,len(c)))\n",
    "    #plt.title(\"Community %s with %s bots\"%(counter,len(c)))\n",
    "    #plt.grid()\n",
    "    #plt.xlabel(\"Bot creation date\")\n",
    "    #plt.ylabel(\"Cumulative Fraction of bots\")\n",
    "    #plt.ylim([0,80])\n",
    "    #plt.subplot(1,2,1)\n",
    "    plt.plot(bins,Hist_count,color = color[counter],\n",
    "             label=\"Community %s with %s nodes\"%(counter,len(c)))\n",
    "    #plt.title(\"Community %s with %s bots\"%(counter,len(c)))\n",
    "    plt.grid()\n",
    "    plt.xlabel(\"Bot creation date\")\n",
    "    plt.ylabel(\"Number of bots\")\n",
    "    plt.title(\"Community %s with %s bots, window = %s days\"%(counter,len(c),window_days))\n",
    "\n",
    "    #plt.ylim([0,80])\n",
    "    plt.show()\n"
   ]
  },
  {
   "cell_type": "code",
   "execution_count": 22,
   "metadata": {
    "scrolled": false
   },
   "outputs": [
    {
     "name": "stdout",
     "output_type": "stream",
     "text": [
      "All 2026 accounts\n",
      "Community 0 with 1073 accounts\n",
      "\t2020-01-07 to 2020-01-14: 11 bots made\n",
      "\t2020-01-21 to 2020-01-28: 11 bots made\n",
      "\t2020-01-28 to 2020-02-04: 13 bots made\n",
      "Community 1 with 757 accounts\n",
      "\t2019-12-17 to 2019-12-24: 10 bots made\n",
      "\t2020-01-07 to 2020-01-14: 12 bots made\n",
      "\t2020-01-14 to 2020-01-21: 14 bots made\n",
      "\t2020-01-21 to 2020-01-28: 13 bots made\n",
      "\t2020-01-28 to 2020-02-04: 12 bots made\n",
      "Community 2 with 195 accounts\n"
     ]
    }
   ],
   "source": [
    "## Get accounts for each community created in a given time window\n",
    "window_days = 7  #length of time window to look in\n",
    "bot_lim = 10\n",
    "t0 = min(df_profiles.created_at_datetime)\n",
    "tf = max(df_profiles.created_at_datetime)\n",
    "\n",
    "bins,CDF,Hist_count =  cdf_created_at(df_profiles,t0,tf,window_days)\n",
    "print(\"All %s accounts\"%(len(df_profiles)))\n",
    "for counter1,t in enumerate(bins[0:-1]):\n",
    "    n = Hist_count[counter1]\n",
    "    t1 = bins[counter1+1]\n",
    "    if n>=bot_lim:\n",
    "        #print(\"\\t%s to %s: %s bots made\"%(t,t1,n))\n",
    "        1\n",
    "            \n",
    "for counter,c in enumerate(Community):\n",
    "    df_comm = df_profiles[df_profiles.Community==counter]\n",
    "    bins,CDF,Hist_count =  cdf_created_at(df_comm,t0,tf,window_days)\n",
    "    print(\"Community %s with %s accounts\"%(counter,len(df_comm)))\n",
    "    for counter1,t in enumerate(bins[0:-1]):\n",
    "        n = Hist_count[counter1]\n",
    "        t1 = bins[counter1+1]\n",
    "        \n",
    "        dt1 =datetime.combine(t1, datetime.min.time())\n",
    "        dt = datetime.combine(t, datetime.min.time())\n",
    "        if n>=bot_lim:\n",
    "            print(\"\\t%s to %s: %s bots made\"%(t,t1,n))\n",
    "            mask1 = (pd.to_datetime(df_comm.created_at_datetime)>dt)\n",
    "            mask2 = (pd.to_datetime(df_comm.created_at_datetime)<=dt1)\n",
    "            Bots_in_window = df_comm[mask1 & mask2]\n",
    "            fname = path_data + \"Bots_Community_%s_%s_to_%s.csv\"%(counter,t,t1)\n",
    "            Bots_in_window.to_csv(fname)\n",
    "            #for bot in Bots_in_window.screen_name:\n",
    "                "
   ]
  },
  {
   "cell_type": "markdown",
   "metadata": {},
   "source": [
    "# Community detection based on account creation time\n",
    "Apply k-means clustering to created_at.  \n",
    "\n",
    "Add column community_created_at to df_profiles with community membership for each profile\n"
   ]
  },
  {
   "cell_type": "code",
   "execution_count": 10,
   "metadata": {},
   "outputs": [
    {
     "name": "stdout",
     "output_type": "stream",
     "text": [
      "center 0: 2012-03-01 06:29:29.609231, 654 accounts\n",
      "center 1: 2019-04-18 04:47:37.431604, 847 accounts\n",
      "center 2: 2015-08-26 17:56:47.215909, 525 accounts\n"
     ]
    },
    {
     "data": {
      "image/png": "[encoded data removed]",
      "text/plain": [
       "<Figure size 432x288 with 1 Axes>"
      ]
     },
     "metadata": {
      "needs_background": "light"
     },
     "output_type": "display_data"
    }
   ],
   "source": [
    "Xdays = np.array([(t-t0).total_seconds()/(3600*24) for t in Tdatetime])\n",
    "n_clusters = 3\n",
    "kmeans = KMeans(n_clusters=n_clusters, random_state=0).fit(Xdays.reshape(-1,1))\n",
    "df_profiles['community_created_at'] = kmeans.labels_\n",
    "\n",
    "\n",
    "\n",
    "t0 = min(df_profiles.created_at_datetime).to_pydatetime()\n",
    "tf = max(df_profiles.created_at_datetime).to_pydatetime()\n",
    "\n",
    "nbins = round((tf-t0).days/7)\n",
    "for counter,center1 in enumerate(kmeans.cluster_centers_):\n",
    "    T = df_profiles.created_at_datetime[df_profiles.community_created_at ==counter]\n",
    "    ncom = len(T)\n",
    "    center = t0+timedelta(days=center1[0])\n",
    "    print(\"center %s: %s, %s accounts\"%(counter,center,ncom))\n",
    "    plt.hist(T,bins = nbins)\n",
    "plt.grid()\n",
    "plt.xlabel(\"Creation Date\", fontsize = 16)\n",
    "plt.ylabel(\"Number of Twitter bots\", fontsize = 16)\n",
    "plt.show()\n",
    "\n",
    "## create list of screen names of users in communities\n",
    "CommunityCreatedAt =[]\n",
    "for c,center in enumerate(kmeans.cluster_centers_):\n",
    "    l = list(df_profiles.screen_name[df_profiles.community_created_at==c])\n",
    "    CommunityCreatedAt.append(l)"
   ]
  },
  {
   "cell_type": "code",
   "execution_count": null,
   "metadata": {},
   "outputs": [],
   "source": [
    "#CDF of creation times of bots\n",
    "tf_bin = tf.replace(hour=0, minute=0, second=0, microsecond=0) # Returns a copy\n",
    "t0_bin = t0.replace(hour=0, minute=0, second=0, microsecond=0) # Returns a copy\n",
    "\n",
    "bins = []\n",
    "ndays = 1\n",
    "delta = timedelta(days=ndays)\n",
    "GO = True\n",
    "counter_days=0\n",
    "while GO:\n",
    "    t1 = t0_bin + counter_days*delta\n",
    "    if t1 >tf_bin:\n",
    "        GO = False\n",
    "        break\n",
    "    else:\n",
    "        bins.append(t1)\n",
    "        counter_days+=1\n",
    "bins = np.array(bins)\n",
    "CDF = []\n",
    "for t in bins:\n",
    "    cdf = len(df_profiles[df_profiles.created_at_datetime<=t])\n",
    "    CDF.append(cdf)\n",
    "CDF = np.array(CDF)\n",
    "CDF_n = CDF/max(CDF)\n",
    "plt.plot(bins,CDF_n,color = 'orange')\n",
    "plt.grid()\n",
    "plt.xlabel(\"Bot creation date\")\n",
    "plt.ylabel(\"Fraction of bots\") \n",
    "plt.show()\n",
    "\n",
    "plt.plot(bins,CDF,color = 'blue')\n",
    "plt.grid()\n",
    "plt.xlabel(\"Bot creation date\")\n",
    "plt.ylabel(\"Number of bots\") \n",
    "plt.show()"
   ]
  },
  {
   "cell_type": "markdown",
   "metadata": {},
   "source": [
    "## Top retweeted users in each created_at community\n"
   ]
  },
  {
   "cell_type": "code",
   "execution_count": 12,
   "metadata": {
    "scrolled": true
   },
   "outputs": [
    {
     "name": "stdout",
     "output_type": "stream",
     "text": [
      "Created_at community 0 with 654 users\n",
      "Top out degree\n",
      "\tCentrality = 41.00,  monther72\n",
      "\tCentrality = 35.00,  5a1di\n",
      "\tCentrality = 33.00,  TurkeyAffairs\n",
      "\tCentrality = 31.00,  tcsavunma\n",
      "\tCentrality = 30.00,  AlArabiya\n",
      "\tCentrality = 25.00,  70sul\n",
      "Created_at community 1 with 847 users\n",
      "Top out degree\n",
      "\tCentrality = 68.00,  EbrahimGasuda\n",
      "\tCentrality = 58.00,  TurkeyAffairs\n",
      "\tCentrality = 57.00,  monther72\n",
      "\tCentrality = 55.00,  emad_badish\n",
      "\tCentrality = 45.00,  RD_turk\n",
      "\tCentrality = 44.00,  AlArabiya\n",
      "Created_at community 2 with 525 users\n",
      "Top out degree\n",
      "\tCentrality = 32.00,  emad_badish\n",
      "\tCentrality = 30.00,  EbrahimGasuda\n",
      "\tCentrality = 28.00,  RD_turk\n",
      "\tCentrality = 28.00,  monther72\n",
      "\tCentrality = 25.00,  TurkeyAffairs\n",
      "\tCentrality = 25.00,  QATARTEAM\n"
     ]
    }
   ],
   "source": [
    "display_max = 5  #number of nodes to display\n",
    "\n",
    "for counter,c in enumerate(CommunityCreatedAt):\n",
    "    Vsub = []\n",
    "    for v in c:\n",
    "        if Gretweet.has_node(v):\n",
    "            nb = list(Gretweet.predecessors(v))\n",
    "            Vsub+=nb\n",
    "    print(\"Created_at community %s with %s users\"%(counter,len(c)))\n",
    "    G = Gretweet.subgraph(Vsub)\n",
    "    Dout = dict(G.out_degree())\n",
    "    print(\"Top out degree\")\n",
    "    Centrality = Dout\n",
    "    display_top_centrality_nodes(Centrality,display_max)\n"
   ]
  },
  {
   "cell_type": "markdown",
   "metadata": {},
   "source": [
    "## Arabic language profiles\n",
    "\n",
    "Look at what fraction of user profiles in each created_at community contain Arabic characters"
   ]
  },
  {
   "cell_type": "code",
   "execution_count": 11,
   "metadata": {},
   "outputs": [
    {
     "name": "stdout",
     "output_type": "stream",
     "text": [
      "Created_at Community 0: 654 users, 0.32 percent arabic profiles\n",
      "Created_at Community 1: 847 users, 0.42 percent arabic profiles\n",
      "Created_at Community 2: 525 users, 0.34 percent arabic profiles\n"
     ]
    }
   ],
   "source": [
    "for counter,c in enumerate(CommunityCreatedAt):\n",
    "    for cv,v in enumerate(c):\n",
    "        if cv ==0:\n",
    "            profiles = df_profiles.description[df_profiles.screen_name==v]\n",
    "        else:\n",
    "            profile = df_profiles.description[df_profiles.screen_name==v]\n",
    "            profiles = profiles.append(profile)\n",
    "    n = len(profiles)\n",
    "    narabic = sum([isarabic_str(p) for p in profiles])\n",
    "\n",
    "    print(\"Created_at Community %s: %s users, %.2f percent arabic profiles\"\n",
    "          %(counter,n,narabic/n))"
   ]
  },
  {
   "cell_type": "markdown",
   "metadata": {},
   "source": [
    "## Compare Arabic to non-Arabic profiles\n",
    "\n",
    "Calculate which bot profiles have arabic characters and add arabic_profile boolean column to df_profiles"
   ]
  },
  {
   "cell_type": "code",
   "execution_count": 12,
   "metadata": {},
   "outputs": [
    {
     "name": "stdout",
     "output_type": "stream",
     "text": [
      "2026 bots, 750 arabic profiles\n"
     ]
    }
   ],
   "source": [
    "Arabic = []\n",
    "for p in df_profiles.description:\n",
    "    arabic = isarabic_str(p)\n",
    "    Arabic.append(arabic)\n",
    "df_profiles[\"arabic_profile\"]  = Arabic\n",
    "narabic = len(df_profiles[df_profiles.arabic_profile])\n",
    "n = len(df_profiles)\n",
    "print(\"%s bots, %s arabic profiles\"%(n,narabic))"
   ]
  },
  {
   "cell_type": "markdown",
   "metadata": {},
   "source": [
    "## Histogram of created_at for Arabic and non-arabic profiles"
   ]
  },
  {
   "cell_type": "code",
   "execution_count": 13,
   "metadata": {},
   "outputs": [
    {
     "data": {
      "image/png": "[encoded data removed]",
      "text/plain": [
       "<Figure size 432x288 with 1 Axes>"
      ]
     },
     "metadata": {
      "needs_background": "light"
     },
     "output_type": "display_data"
    },
    {
     "data": {
      "image/png": "[encoded data removed]",
      "text/plain": [
       "<Figure size 432x288 with 1 Axes>"
      ]
     },
     "metadata": {
      "needs_background": "light"
     },
     "output_type": "display_data"
    }
   ],
   "source": [
    "nbins = 100\n",
    "plt.hist(df_profiles.created_at_datetime[df_profiles.arabic_profile==True],\n",
    "         label = \"Arabic profiles\",color = \"orange\",bins = nbins)\n",
    "plt.grid()\n",
    "plt.title(\"Arabic profiles\",fontsize = 16)\n",
    "plt.xlabel(\"Bot creation date\",fontsize = 14)\n",
    "plt.ylabel(\"Number of bots\",fontsize = 14)\n",
    "plt.show()\n",
    "\n",
    "plt.hist(df_profiles.created_at_datetime[df_profiles.arabic_profile==False],\n",
    "         label = \"Non-Arabic profiles\",color = \"blue\",bins = nbins)\n",
    "plt.grid()\n",
    "plt.title(\"Non-Arabic profiles\",fontsize = 16)\n",
    "plt.xlabel(\"Bot creation date\",fontsize = 14)\n",
    "plt.ylabel(\"Number of bots\",fontsize = 14)\n",
    "\n",
    "plt.show()\n"
   ]
  },
  {
   "cell_type": "code",
   "execution_count": 80,
   "metadata": {},
   "outputs": [
    {
     "data": {
      "text/plain": [
       "Text(0, 0.5, 'Number of bots')"
      ]
     },
     "execution_count": 80,
     "metadata": {},
     "output_type": "execute_result"
    },
    {
     "data": {
      "image/png": "[encoded data removed]",
      "text/plain": [
       "<Figure size 432x288 with 1 Axes>"
      ]
     },
     "metadata": {
      "needs_background": "light"
     },
     "output_type": "display_data"
    }
   ],
   "source": [
    "## Look at number of bots created in each day\n",
    "t0 = min(df_profiles.created_at_datetime).to_pydatetime()\n",
    "tf = max(df_profiles.created_at_datetime).to_pydatetime()\n",
    "ndays = 7 #temporal window to look for bot creations\n",
    "delta = timedelta(days=ndays)\n",
    "\n",
    "t1 = t0\n",
    "Nbots =[]\n",
    "T = []\n",
    "while t1<tf:\n",
    "    t1 = t1+delta\n",
    "    nbots = len(df_profiles[(df_profiles.created_at_datetime>=t1) &\n",
    "                            (df_profiles.created_at_datetime<t1+delta)])\n",
    "    Nbots.append(nbots)\n",
    "    T.append(t1)\n",
    "\n",
    "plt.plot(T,Nbots,color = 'orange')\n",
    "plt.grid()\n",
    "plt.xlabel(\"Bot creation date\",fontsize = 14)\n",
    "plt.ylabel(\"Number of bots\",fontsize = 14)\n"
   ]
  },
  {
   "cell_type": "code",
   "execution_count": 82,
   "metadata": {},
   "outputs": [
    {
     "data": {
      "text/plain": [
       "4593"
      ]
     },
     "execution_count": 82,
     "metadata": {},
     "output_type": "execute_result"
    }
   ],
   "source": [
    "(tf-t0).days"
   ]
  },
  {
   "cell_type": "code",
   "execution_count": null,
   "metadata": {},
   "outputs": [],
   "source": []
  }
 ],
 "metadata": {
  "kernelspec": {
   "display_name": "Python 3",
   "language": "python",
   "name": "python3"
  },
  "language_info": {
   "codemirror_mode": {
    "name": "ipython",
    "version": 3
   },
   "file_extension": ".py",
   "mimetype": "text/x-python",
   "name": "python",
   "nbconvert_exporter": "python",
   "pygments_lexer": "ipython3",
   "version": "3.7.1"
  }
 },
 "nbformat": 4,
 "nbformat_minor": 4
}
