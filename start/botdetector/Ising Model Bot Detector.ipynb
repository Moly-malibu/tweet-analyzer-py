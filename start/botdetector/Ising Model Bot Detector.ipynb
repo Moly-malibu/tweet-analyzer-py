{
 "cells": [
  {
   "cell_type": "markdown",
   "metadata": {},
   "source": [
    "# Ising Model Bot Detection\n",
    "\n",
    "This notebook lets you detect bots in a retweet network using the Ising model algorithm from the paper \"Detecting Bots and Assessing Their Impact in Social Networks\" https://arxiv.org/abs/1810.12398.  \n",
    "\n",
    "You will need a retweet graph saved as a networkx object and the helper file networkClassifierHELPER.py and the file ioHELPER.py"
   ]
  },
  {
   "cell_type": "code",
   "execution_count": 1,
   "metadata": {},
   "outputs": [],
   "source": [
    "import os\n",
    "import sys\n",
    "import math\n",
    "import datetime, time\n",
    "import random\n",
    "import numpy as np\n",
    "import networkx as nx\n",
    "import sqlite3,sys,os,string\n",
    "import pandas as pd\n",
    "import matplotlib.pyplot as plt\n",
    "\n",
    "from sklearn import metrics\n",
    "from scipy.sparse import csc_matrix\n",
    "\n",
    "from networkClassifierHELPER import *\n"
   ]
  },
  {
   "cell_type": "markdown",
   "metadata": {},
   "source": [
    "## Load Retweet  graph\n",
    "\n",
    "path_data = folder where the retweet graph file is\n",
    "\n",
    "Gretweet = retweet graph networkx DiGraph object.  \n",
    "\n",
    "The format of the edges is (u,v,$weight$).  \n",
    "This means u retweeted v $weight$ times.\n",
    "\n",
    "Another way to view this is a node's out-degree is the number of nodes it retweeted, a node's in-degree is the number of people who retweet it.\n",
    "We expect dout to be large for bots, din to be large for popular humans."
   ]
  },
  {
   "cell_type": "code",
   "execution_count": 32,
   "metadata": {},
   "outputs": [
    {
     "name": "stdout",
     "output_type": "stream",
     "text": [
      "Gretweet has 107651 node, 372089 edges\n",
      "Nodes max retweet = 3484.00\n",
      "Nodes max  retweet count 39203.00\n"
     ]
    }
   ],
   "source": [
    "path_data = \"C://Users//Zlisto//Dropbox (Personal)//MIDAC//BotDetection//Pizzagate//\"\n",
    "   \n",
    "fname_Gretweet = path_data + \"Gretweet_pizzagate.gpickle\"\n",
    "Gretweet = nx.read_gpickle(fname_Gretweet)\n",
    "\n",
    "n = Gretweet.number_of_nodes()\n",
    "ne = Gretweet.number_of_edges()\n",
    "Din = Gretweet.in_degree(weight='weight')\n",
    "Dout = Gretweet.out_degree(weight='weight')\n",
    "Dout_list = [x[1] for x in Dout]\n",
    "Din_list = [x[1] for x in Din]\n",
    "print(\"Gretweet has %s node, %s edges\"%(n,ne))\n",
    "print(\"Nodes max retweet = %.2f\"%max(Dout_list))\n",
    "print(\"Nodes max  retweet count %.2f\"%max(Din_list))"
   ]
  },
  {
   "cell_type": "markdown",
   "metadata": {},
   "source": [
    "## Define Ising model algorithm parameters\n",
    "\n",
    "Use the default values provided here.  \n",
    "\n",
    "lambdaij = edge energy scale factor for node type $i$ retweeting node type $j$.  The types are human = 0, bot = 1.\n",
    "\n",
    "epsilon = edge energy parameter\n",
    "\n",
    "alpha_out = upper quantiles of out-degree of graph (how much a node retweets)\n",
    "\n",
    "alpha_in = upper quantiles of in-degree of graph (how much a node is retweeted)\n",
    "\n",
    "mu = scale of edge energies w.r.t. node energies.  Set this to 1."
   ]
  },
  {
   "cell_type": "code",
   "execution_count": 39,
   "metadata": {},
   "outputs": [
    {
     "name": "stdout",
     "output_type": "stream",
     "text": [
      "Define Ising model parameters\n",
      "alpha_out = 224.35\n",
      "alpha_in = 552.70\n"
     ]
    }
   ],
   "source": [
    "print(\"Define Ising model parameters\")\n",
    "mu = 1\n",
    "\n",
    "epsilon = 10**(-3) ##named delta in paper, should be close to 0 (eg. 0.001) in order for lambda10 to be slightly > to lambda00+lambda11-1.\n",
    "lambda01 = 1\n",
    "lambda00 = 0.61\n",
    "lambda11 = 0.83\n",
    "lambda10 = lambda00+ lambda11 - lambda01 + epsilon\n",
    "\n",
    "q=0.999\n",
    "alpha_in = np.quantile(Din_list,q)\n",
    "alpha_out = np.quantile(Dout_list,q)\n",
    "\n",
    "alpha=[mu,alpha_out,alpha_in]\n",
    "\n",
    "print(\"alpha_out = %.2f\"%alpha_out)\n",
    "print(\"alpha_in = %.2f\"%alpha_in)"
   ]
  },
  {
   "cell_type": "markdown",
   "metadata": {},
   "source": [
    "## Create energy graph\n",
    "\n",
    "PiBot = prior probability of being a bot for each node\n",
    "\n",
    "link_data = list of edges, bidirectional indicator, and weight\n",
    "\n",
    "edgelist_data = list of edges, edge energies "
   ]
  },
  {
   "cell_type": "code",
   "execution_count": 34,
   "metadata": {},
   "outputs": [
    {
     "name": "stdout",
     "output_type": "stream",
     "text": [
      "Make edgelist_data\n",
      "\tEdgelist has 372089 edges\n",
      "--- 195.57452964782715 seconds ---\n"
     ]
    }
   ],
   "source": [
    "PiBot = {}\n",
    "for v in Gretweet.nodes(): \n",
    "    PiBot[v]=0.5\n",
    "#link_data[i] = [u,v,is (u,v) in E, is (v,u) in E, number times u rewteets v]\n",
    "link_data = getLinkDataRestrained(Gretweet)\n",
    "\n",
    "start_time = time.time()\n",
    "print(\"Make edgelist_data\")\n",
    "#edgelist_data[i] = [u,v,(Psi00,Psi01,Psi10,Psi11)], these are the edge energies\n",
    "#on edge (i,j) for the graph cut\n",
    "edgelist_data =[(i[0], i[1], psi(i[0],i[1],i[4], Din, Dout,alpha,lambda00,lambda11,epsilon)) for i in link_data]\n",
    "print(\"\\tEdgelist has %s edges\"%len(edgelist_data))\n",
    "print(\"--- %s seconds ---\" % (time.time() - start_time))\n",
    "\n"
   ]
  },
  {
   "cell_type": "markdown",
   "metadata": {},
   "source": [
    "## Find Min-Cut of energy graph\n",
    "\n",
    "H = energy graph\n",
    "\n",
    "BotsIsing = list of nodes who are bots in min-cut\n",
    "\n",
    "HumansIsing = list of nodes who are humans in min-cut"
   ]
  },
  {
   "cell_type": "code",
   "execution_count": 41,
   "metadata": {},
   "outputs": [
    {
     "name": "stdout",
     "output_type": "stream",
     "text": [
      "Cut graph\n",
      "\tCompleted graph cut\n",
      "106823 bots in 107651 nodes\n",
      "--- 77.91572213172913 seconds ---\n"
     ]
    }
   ],
   "source": [
    "start_time = time.time()\n",
    "print(\"Cut graph\")\n",
    "H, BotsIsing, user_data = computeH(Gretweet, PiBot, edgelist_data, Dout, Din)\n",
    "Nodes = []\n",
    "for v in Gretweet.nodes(): Nodes.append(v)\n",
    "HumansIsing = list(set(Nodes) - set(BotsIsing))\n",
    "print('\\tCompleted graph cut')\n",
    "print(\"%s bots in %s nodes\"%(len(BotsIsing),Gretweet.number_of_nodes()))\n",
    "print(\"--- %s seconds ---\" % (time.time() - start_time))"
   ]
  },
  {
   "cell_type": "markdown",
   "metadata": {},
   "source": [
    "## Calculate Bot Probability \n",
    "Find the probability each node is a bot using classification found from min-cut of energy graph.\n",
    "\n",
    "THIS TAKES A LONG TIME\n",
    "\n",
    "PiBotFinal = dictionary of bot probabilities."
   ]
  },
  {
   "cell_type": "code",
   "execution_count": 42,
   "metadata": {},
   "outputs": [
    {
     "name": "stdout",
     "output_type": "stream",
     "text": [
      "Calculate bot probability for each labeled node in retweet graph\n",
      "Node 0\n",
      "Node 1000\n",
      "Node 2000\n",
      "Node 3000\n",
      "Node 4000\n",
      "Node 5000\n",
      "Node 6000\n",
      "Node 7000\n",
      "Node 8000\n",
      "Node 9000\n",
      "Node 10000\n",
      "Node 11000\n",
      "Node 12000\n",
      "Node 13000\n",
      "Node 14000\n",
      "Node 15000\n",
      "Node 16000\n",
      "Node 17000\n",
      "Node 18000\n",
      "Node 19000\n",
      "Node 20000\n",
      "Node 21000\n",
      "Node 22000\n",
      "Node 23000\n",
      "Node 24000\n",
      "Node 25000\n",
      "Node 26000\n",
      "Node 27000\n",
      "Node 28000\n",
      "Node 29000\n",
      "Node 30000\n",
      "Node 31000\n",
      "Node 32000\n",
      "Node 33000\n",
      "Node 34000\n",
      "Node 35000\n",
      "Node 36000\n",
      "Node 37000\n",
      "Node 38000\n",
      "Node 39000\n",
      "Node 40000\n",
      "Node 41000\n",
      "Node 42000\n",
      "Node 43000\n",
      "Node 44000\n",
      "Node 45000\n",
      "Node 46000\n",
      "Node 47000\n",
      "Node 48000\n",
      "Node 49000\n",
      "Node 50000\n",
      "Node 51000\n",
      "Node 52000\n",
      "Node 53000\n",
      "Node 54000\n",
      "Node 55000\n",
      "Node 56000\n",
      "Node 57000\n",
      "Node 58000\n",
      "Node 59000\n",
      "Node 60000\n",
      "Node 61000\n",
      "Node 62000\n",
      "Node 63000\n",
      "Node 64000\n",
      "Node 65000\n",
      "Node 66000\n",
      "Node 67000\n",
      "Node 68000\n",
      "Node 69000\n",
      "Node 70000\n",
      "Node 71000\n",
      "Node 72000\n",
      "Node 73000\n",
      "Node 74000\n",
      "Node 75000\n",
      "Node 76000\n",
      "Node 77000\n",
      "Node 78000\n",
      "Node 79000\n",
      "Node 80000\n",
      "Node 81000\n",
      "Node 82000\n",
      "Node 83000\n",
      "Node 84000\n",
      "Node 85000\n",
      "Node 86000\n",
      "Node 87000\n",
      "Node 88000\n",
      "Node 89000\n",
      "Node 90000\n",
      "Node 91000\n",
      "Node 92000\n",
      "Node 93000\n",
      "Node 94000\n",
      "Node 95000\n",
      "Node 96000\n",
      "Node 97000\n",
      "Node 98000\n",
      "Node 99000\n",
      "Node 100000\n",
      "Node 101000\n",
      "Node 102000\n",
      "Node 103000\n",
      "Node 104000\n",
      "Node 105000\n",
      "Node 106000\n",
      "Node 107000\n",
      "--- 7387.621848106384 seconds ---\n"
     ]
    }
   ],
   "source": [
    "start_time = time.time()   \n",
    "print(\"Calculate bot probability for each labeled node in retweet graph\")\n",
    "PiBotFinal = {}\n",
    "\n",
    "for counter,node in enumerate(Gretweet.nodes()):\n",
    "    if counter%1000==0:print(\"Node %s\"%counter)\n",
    "    if node in Gretweet.nodes():\n",
    "        neighbors=list(np.unique([i for i in nx.all_neighbors(H,node) if i not in [0,1]])) \n",
    "        ebots=list(np.unique(np.intersect1d(neighbors,BotsIsing))) \n",
    "        ehumans=list(set(neighbors)-set(ebots)) \n",
    "        psi_l= sum([H[node][j]['capacity'] for j in ehumans])- sum([H[node][i]['capacity'] for i in ebots]) \n",
    "\n",
    "        psi_l_bis= psi_l + H[node][0]['capacity'] - H[1][node]['capacity'] ##probability to be in 1 = notPL\n",
    "\n",
    "        if (psi_l_bis)>12:\n",
    "            PiBotFinal[node] = 0\n",
    "        else:\n",
    "            PiBotFinal[node] = 1./(1+np.exp(psi_l_bis)) #Probability in the target (0) class\n",
    "\n",
    "\n",
    "print(\"--- %s seconds ---\" % (time.time() - start_time))"
   ]
  },
  {
   "cell_type": "markdown",
   "metadata": {},
   "source": [
    "## Save probabilities to file\n",
    "Convert dictionary of bot probabilities to a dataframe and write to a csv file."
   ]
  },
  {
   "cell_type": "code",
   "execution_count": 48,
   "metadata": {},
   "outputs": [
    {
     "name": "stdout",
     "output_type": "stream",
     "text": [
      "Wrote bot probabilities to C://Users//Zlisto//Dropbox (Personal)//MIDAC//BotDetection//Pizzagate//Pibot_pizzagate.csv\n"
     ]
    }
   ],
   "source": [
    "dfPiBot = pd.DataFrame(list(PiBotFinal.items()),columns = ['screen_name','bot_probability'])\n",
    "FilenamePiBot = path_data+ \"Pibot_pizzagate.csv\"\n",
    "dfPiBot.to_csv(FilenamePiBot)\n",
    "print(\"Wrote bot probabilities to %s\"%FilenamePiBot)"
   ]
  },
  {
   "cell_type": "markdown",
   "metadata": {},
   "source": [
    "## Histogram of Bot Probabilities\n",
    "Plot a histogram of the bot probabilities so you can see what a good threshold is"
   ]
  },
  {
   "cell_type": "code",
   "execution_count": 69,
   "metadata": {},
   "outputs": [
    {
     "name": "stderr",
     "output_type": "stream",
     "text": [
      "C:\\Users\\Zlisto\\Anaconda3\\lib\\site-packages\\ipykernel_launcher.py:3: VisibleDeprecationWarning: Passing `normed=True` on non-uniform bins has always been broken, and computes neither the probability density function nor the probability mass function. The result is only correct if the bins are uniform, when density=True will produce the same result anyway. The argument will be removed in a future version of numpy.\n",
      "  This is separate from the ipykernel package so we can avoid doing imports until\n"
     ]
    },
    {
     "data": {
      "text/plain": [
       "Text(0, 0.5, 'CDF')"
      ]
     },
     "execution_count": 69,
     "metadata": {},
     "output_type": "execute_result"
    },
    {
     "data": {
      "image/png": "[encoded data removed]",
      "text/plain": [
       "<Figure size 432x288 with 1 Axes>"
      ]
     },
     "metadata": {
      "needs_background": "light"
     },
     "output_type": "display_data"
    }
   ],
   "source": [
    "data = dfPiBot.bot_probability\n",
    "num_bins = round(len(data)/10)\n",
    "counts, bin_edges = np.histogram (data, bins=num_bins, normed=True)\n",
    "cdf = np.cumsum (counts)\n",
    "plt.plot (bin_edges[1:], cdf/cdf[-1])\n",
    "plt.grid()\n",
    "plt.xlabel(\"Bot probability\")\n",
    "plt.ylabel(\"CDF\")"
   ]
  },
  {
   "cell_type": "code",
   "execution_count": 72,
   "metadata": {},
   "outputs": [
    {
     "name": "stdout",
     "output_type": "stream",
     "text": [
      "828 users bot prob<0.5\n",
      "102663 users bot prob>0.5\n",
      "4160 users bot prob=0.5\n",
      "\n"
     ]
    }
   ],
   "source": [
    "nlow = len(dfPiBot[dfPiBot.bot_probability<0.5])\n",
    "nhigh = len(dfPiBot[dfPiBot.bot_probability>0.5])\n",
    "nmid = len(dfPiBot[dfPiBot.bot_probability==0.5])\n",
    "print(\"%s users bot prob<0.5\\n%s users bot prob>0.5\\n%s users bot prob=0.5\\n\"%(nlow,nmid,nhigh))"
   ]
  },
  {
   "cell_type": "code",
   "execution_count": 71,
   "metadata": {},
   "outputs": [
    {
     "data": {
      "text/plain": [
       "Text(0.5, 1.0, 'No 0.5 probability users')"
      ]
     },
     "execution_count": 71,
     "metadata": {},
     "output_type": "execute_result"
    },
    {
     "data": {
      "image/png": "[encoded data removed]",
      "text/plain": [
       "<Figure size 432x288 with 1 Axes>"
      ]
     },
     "metadata": {
      "needs_background": "light"
     },
     "output_type": "display_data"
    }
   ],
   "source": [
    "plt.hist(dfPiBot.bot_probability[dfPiBot.bot_probability<0.5]);\n",
    "plt.hist(dfPiBot.bot_probability[dfPiBot.bot_probability>0.5]);\n",
    "plt.grid()\n",
    "plt.xlabel(\"Bot probability\")\n",
    "plt.ylabel(\"Frequency\")\n",
    "plt.title(\"No 0.5 probability users\")"
   ]
  },
  {
   "cell_type": "code",
   "execution_count": null,
   "metadata": {},
   "outputs": [],
   "source": []
  }
 ],
 "metadata": {
  "kernelspec": {
   "display_name": "Python 3",
   "language": "python",
   "name": "python3"
  },
  "language_info": {
   "codemirror_mode": {
    "name": "ipython",
    "version": 3
   },
   "file_extension": ".py",
   "mimetype": "text/x-python",
   "name": "python",
   "nbconvert_exporter": "python",
   "pygments_lexer": "ipython3",
   "version": "3.7.1"
  }
 },
 "nbformat": 4,
 "nbformat_minor": 4
}
